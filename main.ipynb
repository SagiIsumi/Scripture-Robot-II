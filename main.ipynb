{
 "cells": [
  {
   "cell_type": "code",
   "execution_count": 5,
   "metadata": {},
   "outputs": [],
   "source": [
    "import torch\n",
    "from pathlib import Path\n",
    "from langchain.document_loaders import PyPDFLoader, UnstructuredFileLoader, Docx2txtLoader, TextLoader\n",
    "from langchain.text_splitter import RecursiveCharacterTextSplitter"
   ]
  },
  {
   "cell_type": "code",
   "execution_count": 3,
   "metadata": {},
   "outputs": [
    {
     "name": "stdout",
     "output_type": "stream",
     "text": [
      "模型將運行在: cuda\n"
     ]
    }
   ],
   "source": [
    "device = torch.device(\"cuda\" if torch.cuda.is_available() else \"cpu\")\n",
    "print(f\"模型將運行在: {device}\")"
   ]
  },
  {
   "cell_type": "code",
   "execution_count": 19,
   "metadata": {},
   "outputs": [
    {
     "name": "stdout",
     "output_type": "stream",
     "text": [
      "scripts/心經白話文_ 講解.txt\n",
      "source: 心經白話文, content: 心經解釋\n",
      "觀自在菩薩，行深般若波羅蜜多時，照見五蘊皆空，度一切苦厄。\n",
      "觀世音菩薩，在進行深度菩薩智慧之解說時，清楚地指出將｢色、受、想、行、識｣五蘊都拋開，心態不被自己的主觀意念所左右，才能成為菩薩幫眾生解救一切的痛苦跟災難。\n",
      "source: 心經白話文, content: 舍利子，(色性是空、空性是色) 、色不異空，空不異色。\n",
      "source: 心經白話文, content: 舍利子(當時提問觀世音菩薩的佛陀弟子)，身處空界的菩薩在三界十方世界進行救度，包含人類所處的有形體色界要做的事情跟無形體的空界環境都是一樣的。不管有無形體的各界，都是一視同仁，沒有不同。\n"
     ]
    }
   ],
   "source": [
    "path=\"./scripts\"\n",
    "sep=[\"\\n\\n\",\"\\n\",\" \", \"\\u200b\",  # Zero-width space\n",
    "        \"\\uff0c\",  # Fullwidth comma\n",
    "        \"\\u3001\",  # Ideographic comma\n",
    "        \"\\uff0e\",  # Fullwidth full stop\n",
    "        \"\\u3002\",  # Ideographic full stop\n",
    "        \"\",]\n",
    "splitter=RecursiveCharacterTextSplitter(separators=sep,chunk_size=128,chunk_overlap=8)\n",
    "for content in Path(path).glob(\"*.txt\"):\n",
    "    print(str(content))\n",
    "    raw_documents = TextLoader(str(content), encoding='utf-8').load_and_split(splitter)\n",
    "    #print(raw_documents[0:2])\n",
    "    if path==\"./scripts\":#讀取經文資料時對metadata進行處理並儲存\n",
    "        for name in raw_documents[:3]:\n",
    "            # print(name)\n",
    "            title=name.metadata[\"source\"].split(\"_\")[0]\n",
    "            name.metadata[\"source\"]= title.split(\"/\")[1]\n",
    "            print(\"source: \"+ name.metadata[\"source\"]+\", content: \"+name.page_content)\n",
    "    break"
   ]
  }
 ],
 "metadata": {
  "kernelspec": {
   "display_name": "SC",
   "language": "python",
   "name": "python3"
  },
  "language_info": {
   "codemirror_mode": {
    "name": "ipython",
    "version": 3
   },
   "file_extension": ".py",
   "mimetype": "text/x-python",
   "name": "python",
   "nbconvert_exporter": "python",
   "pygments_lexer": "ipython3",
   "version": "3.10.0"
  }
 },
 "nbformat": 4,
 "nbformat_minor": 2
}
